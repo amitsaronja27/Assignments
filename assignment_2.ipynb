{
 "cells": [
  {
   "cell_type": "markdown",
   "metadata": {},
   "source": [
    "Task 1:   \n",
    " \n",
    "1.1  \n",
    " \n",
    "Write a Python Program to implement your own myreduce() function which works exactly \n",
    "like Python's built-in function reduce() "
   ]
  },
  {
   "cell_type": "code",
   "execution_count": 126,
   "metadata": {},
   "outputs": [
    {
     "name": "stdout",
     "output_type": "stream",
     "text": [
      "The summation of list using reduce is :22\n"
     ]
    }
   ],
   "source": [
    "# priting summation using reduce() \n",
    "# importing functools for reduce() \n",
    "import functools \n",
    "# initializing list  \n",
    "lis = [ 1, 3, 4, 10, 4 ] \n",
    "print (\"The summation of list using reduce is :\",end=\"\") \n",
    "print (functools.reduce(lambda x,y:x+y,lis)) "
   ]
  },
  {
   "cell_type": "code",
   "execution_count": 127,
   "metadata": {},
   "outputs": [
    {
     "data": {
      "text/plain": [
       "22"
      ]
     },
     "execution_count": 127,
     "metadata": {},
     "output_type": "execute_result"
    }
   ],
   "source": [
    "#myreduce function , same functionality as reduce\n",
    "def myreduce(lis):\n",
    "    sum=0\n",
    "    for j in range(len(lis)):\n",
    "        sum=lis[j]+sum\n",
    "    return sum    \n",
    "\n",
    "list=[ 1, 3, 4, 10, 4 ]\n",
    "myreduce(list)"
   ]
  },
  {
   "cell_type": "markdown",
   "metadata": {},
   "source": [
    "Task 1\n",
    "1.2  \n",
    " \n",
    "Write a Python program to implement your own myfilter() function which works exactly like Python's built-in function filter() \n",
    " \n",
    " "
   ]
  },
  {
   "cell_type": "code",
   "execution_count": 134,
   "metadata": {},
   "outputs": [
    {
     "name": "stdout",
     "output_type": "stream",
     "text": [
      "[2, 4, 20]\n"
     ]
    }
   ],
   "source": [
    "#own myfilter() function\n",
    "\n",
    "def filterOddNum(in_num):\n",
    "\n",
    "    if(in_num % 2) == 0:\n",
    "        return True\n",
    "    else:\n",
    "        return False\n",
    "\n",
    "def myfilter(func,lst):\n",
    "    list=[]\n",
    "    for i in lst:\n",
    "        if func(i) == True:\n",
    "            #print(i)\n",
    "            list.append(i)   \n",
    "    return list    \n",
    "\n",
    "even_list=myfilter(filterOddNum,[1,2,3,4,5,7,20,27])\n",
    "print(even_list)"
   ]
  },
  {
   "cell_type": "code",
   "execution_count": null,
   "metadata": {},
   "outputs": [],
   "source": [
    "#Task 1\n",
    "#2"
   ]
  },
  {
   "cell_type": "code",
   "execution_count": 135,
   "metadata": {},
   "outputs": [
    {
     "data": {
      "text/plain": [
       "['x', 'xx', 'xxx', 'xxxx', 'y', 'yy', 'yyy', 'yyyy', 'z', 'zz', 'zzz', 'zzzz']"
      ]
     },
     "execution_count": 135,
     "metadata": {},
     "output_type": "execute_result"
    }
   ],
   "source": [
    "# L2 = ['x', 'xx', 'xxx', 'xxxx', 'y', 'yy', 'yyy', 'yyyy', 'z', 'zz', 'zzz', 'zzzz'] \n",
    "\n",
    "p = [ i*j for i in ['x','y','z'] for j in range(1,5)  ]\n",
    "\n",
    "p"
   ]
  },
  {
   "cell_type": "code",
   "execution_count": 137,
   "metadata": {},
   "outputs": [
    {
     "data": {
      "text/plain": [
       "[(1, 1), (1, 2), (1, 3), (2, 1), (2, 2), (2, 3), (3, 1), (3, 2), (3, 3)]"
      ]
     },
     "execution_count": 137,
     "metadata": {},
     "output_type": "execute_result"
    }
   ],
   "source": [
    "#[(1, 1), (2, 1), (3, 1), (1, 2), (2, 2), (3, 2), (1, 3), (2, 3), (3, 3)] \n",
    "p = [(x,y)  for x in range(1,4) for y in range(1,4) ]\n",
    "p"
   ]
  },
  {
   "cell_type": "code",
   "execution_count": 138,
   "metadata": {},
   "outputs": [
    {
     "data": {
      "text/plain": [
       "[[2], [3], [4], [3], [4], [5], [4], [5], [6]]"
      ]
     },
     "execution_count": 138,
     "metadata": {},
     "output_type": "execute_result"
    }
   ],
   "source": [
    "#[[2], [3], [4], [3], [4], [5], [4], [5], [6]] \n",
    "p = [[x+y] for x in range(1,4) for y in range(1,4)]\n",
    "p"
   ]
  },
  {
   "cell_type": "code",
   "execution_count": 139,
   "metadata": {},
   "outputs": [
    {
     "data": {
      "text/plain": [
       "[[2, 3, 4, 5], [3, 4, 5, 6], [4, 5, 6, 7], [5, 6, 7, 8]]"
      ]
     },
     "execution_count": 139,
     "metadata": {},
     "output_type": "execute_result"
    }
   ],
   "source": [
    "#[[2, 3, 4, 5], [3, 4, 5, 6], [4, 5, 6, 7], [5, 6, 7, 8]] \n",
    "p= [[w,w+1,w+2,w+3] for w in range(2,6)]\n",
    "p"
   ]
  },
  {
   "cell_type": "code",
   "execution_count": 140,
   "metadata": {},
   "outputs": [
    {
     "data": {
      "text/plain": [
       "['A', 'C', 'A', 'D', 'G', 'I', 'L', 'D']"
      ]
     },
     "execution_count": 140,
     "metadata": {},
     "output_type": "execute_result"
    }
   ],
   "source": [
    "p= [w for w in ['A', 'C', 'A', 'D', 'G', 'I', 'L', 'D'] ]\n",
    "p"
   ]
  },
  {
   "cell_type": "code",
   "execution_count": 141,
   "metadata": {},
   "outputs": [
    {
     "data": {
      "text/plain": [
       "['x', 'y', 'z', 'xx', 'yy', 'zz', 'xxx', 'yyy', 'zzz', 'xxxx', 'yyyy', 'zzzz']"
      ]
     },
     "execution_count": 141,
     "metadata": {},
     "output_type": "execute_result"
    }
   ],
   "source": [
    "#['x', 'y', 'z', 'xx', 'yy', 'zz', 'xx', 'yy', 'zz', 'xxxx', 'yyyy', 'zzzz']\n",
    "p = [i*j for j in range(1,5) for i in ['x','y','z']] \n",
    "p"
   ]
  },
  {
   "cell_type": "markdown",
   "metadata": {},
   "source": [
    "#Task 1\n",
    "\n",
    "#3. Implement a function longestWord() that takes a list of words and returns the longest one.\n",
    "\n"
   ]
  },
  {
   "cell_type": "code",
   "execution_count": 64,
   "metadata": {},
   "outputs": [
    {
     "name": "stdout",
     "output_type": "stream",
     "text": [
      "howareyou\n"
     ]
    }
   ],
   "source": [
    "#function to return longest word in a list \n",
    "#(method 1)\n",
    "def longestWord(list):\n",
    "    print(max(list,key=len))\n",
    "        \n",
    "longestWord(['abc','xyzhdjd','amit','howareyou'])"
   ]
  },
  {
   "cell_type": "code",
   "execution_count": 67,
   "metadata": {},
   "outputs": [
    {
     "data": {
      "text/plain": [
       "'howareyou'"
      ]
     },
     "execution_count": 67,
     "metadata": {},
     "output_type": "execute_result"
    }
   ],
   "source": [
    "#function to return longest word in a list \n",
    "# (method 2)\n",
    "def longestWord(list):\n",
    "    words_sorted = sorted(list, reverse=True, key=len)  #reverse sorted based on length\n",
    "    return words_sorted[0]                              #returning first element list\n",
    "\n",
    "longestWord(['abc','xyzhdjd','amit','howareyou'])"
   ]
  },
  {
   "cell_type": "markdown",
   "metadata": {},
   "source": [
    "# task 2\n",
    "# 1.1  \n",
    " \n",
    "Write a Python Program(with class concepts) to find the area of the triangle using the below formula. \n",
    " \n",
    "area = (s*(s-a)*(s-b)*(s-c)) ** 0.5 \n",
    " \n",
    "Function to take the length of the sides of triangle from user should be defined in the parent class and function to calculate the area should be defined in subclass. \n",
    " \n",
    " "
   ]
  },
  {
   "cell_type": "code",
   "execution_count": 75,
   "metadata": {},
   "outputs": [
    {
     "name": "stdout",
     "output_type": "stream",
     "text": [
      "Enter the value of a = 5\n",
      "Enter the value of b = 5\n",
      "Enter the value of c = 5\n",
      "area : 10.825317547305483\n"
     ]
    }
   ],
   "source": [
    "class Triangle:\n",
    " \n",
    "    def __init__(self,a,b,c):\n",
    "        self.a = float(a)\n",
    "        self.b = float(b)\n",
    "        self.c = float(c)\n",
    " \n",
    "    def area(self):\n",
    "        s=(self.a + self.b + self.c)/2\n",
    "        return((s*(s-self.a)*(s-self.b)*(s-self.c))**0.5)\n",
    " \n",
    "a=input(\"Enter the value of a = \")\n",
    "b=input(\"Enter the value of b = \")\n",
    "c=input(\"Enter the value of c = \")\n",
    "t = Triangle(a, b, c)\n",
    "print(\"area : {}\".format(t.area()))"
   ]
  },
  {
   "cell_type": "markdown",
   "metadata": {},
   "source": [
    "# Task 2:\n",
    "# 1.2  \n",
    "Write a function filter_long_words() that takes a list of words and an integer n \n",
    "and returns the list of words that are longer than n\n"
   ]
  },
  {
   "cell_type": "code",
   "execution_count": 70,
   "metadata": {},
   "outputs": [
    {
     "data": {
      "text/plain": [
       "['howareyou', 'xyzhdjd']"
      ]
     },
     "execution_count": 70,
     "metadata": {},
     "output_type": "execute_result"
    }
   ],
   "source": [
    "#function to return list of words longer than n\n",
    "def filter_long_words(list,n):\n",
    "    words_sorted = sorted(list, reverse=True, key=len)  #reverse sorted based on length\n",
    "    lst = []\n",
    "    for i in words_sorted:\n",
    "        if len(i)>n:\n",
    "            lst.append(i)\n",
    "    return lst   \n",
    "\n",
    "filter_long_words(['ab','xyzhdjd','amit','howareyou'],4)"
   ]
  },
  {
   "cell_type": "markdown",
   "metadata": {},
   "source": [
    "# Task 2\n",
    "# 2.1\n",
    "Write a Python program using function concept that maps  list of words into a list of integers representing the lengths of the corresponding words​. \n",
    " Hint: \n",
    " If a list [ ab,cde,erty] is passed on to the python function output should come as [2,3,4] \n",
    " Here 2,3 and 4 are the lengths of the words in the list. "
   ]
  },
  {
   "cell_type": "code",
   "execution_count": 71,
   "metadata": {},
   "outputs": [
    {
     "data": {
      "text/plain": [
       "[2, 3, 4]"
      ]
     },
     "execution_count": 71,
     "metadata": {},
     "output_type": "execute_result"
    }
   ],
   "source": [
    "#method 1\n",
    "#function to return list of words longer than n\n",
    "def length_of_words(list):\n",
    "    lst = []\n",
    "    for i in list:\n",
    "            lst.append(len(i))\n",
    "    return lst    \n",
    "\n",
    "length_of_words(['ab','cde','erty'])"
   ]
  },
  {
   "cell_type": "code",
   "execution_count": 72,
   "metadata": {},
   "outputs": [
    {
     "data": {
      "text/plain": [
       "[2, 3, 4]"
      ]
     },
     "execution_count": 72,
     "metadata": {},
     "output_type": "execute_result"
    }
   ],
   "source": [
    "#method 2\n",
    "#list comprehension to return list of words longer than n\n",
    "x = [len(i) for i in ['ab','cde','erty']]\n",
    "x"
   ]
  },
  {
   "cell_type": "markdown",
   "metadata": {},
   "source": [
    "# Task 2\n",
    "# 2.2\n",
    "Write a Python function which takes a character (i.e. a string of length 1) and \n",
    "returns True if it is a vowel, False otherwise."
   ]
  },
  {
   "cell_type": "code",
   "execution_count": 74,
   "metadata": {},
   "outputs": [
    {
     "data": {
      "text/plain": [
       "True"
      ]
     },
     "execution_count": 74,
     "metadata": {},
     "output_type": "execute_result"
    }
   ],
   "source": [
    "def checkvowel(string):\n",
    "    counter=0\n",
    "    if len(string)>1:\n",
    "        print(\"Please enter a valid character\")\n",
    "    else:\n",
    "        for vow in ['a','e','i','o','u']:\n",
    "            if string == vow:\n",
    "                counter=counter+1\n",
    "        if counter==1:\n",
    "            return True\n",
    "        else:\n",
    "            return False\n",
    "checkvowel('e')            "
   ]
  }
 ],
 "metadata": {
  "kernelspec": {
   "display_name": "Python 3",
   "language": "python",
   "name": "python3"
  },
  "language_info": {
   "codemirror_mode": {
    "name": "ipython",
    "version": 3
   },
   "file_extension": ".py",
   "mimetype": "text/x-python",
   "name": "python",
   "nbconvert_exporter": "python",
   "pygments_lexer": "ipython3",
   "version": "3.7.3"
  }
 },
 "nbformat": 4,
 "nbformat_minor": 2
}
